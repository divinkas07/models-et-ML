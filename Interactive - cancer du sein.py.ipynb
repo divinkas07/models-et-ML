{
 "cells": [
  {
   "cell_type": "markdown",
   "metadata": {},
   "source": [
    "[Select a kernel](command:_notebook.selectKernel) to run cells."
   ]
  },
  {
   "cell_type": "markdown",
   "id": "210a748b",
   "metadata": {},
   "source": []
  },
  {
   "cell_type": "markdown",
   "id": "027cc4b9",
   "metadata": {},
   "source": [
    "Cas d'utilisation potentiels\n",
    "Apprentissage automatique : former des modèles de classification (par exemple, Random Forest, SVM ou réseaux neuronaux) pour prédire la malignité des tumeurs.\n",
    "Ingénierie des fonctionnalités : explorer les corrélations entre les fonctionnalités (par exemple, le rayon et la surface) pour identifier les principaux prédicteurs de malignité.\n",
    "Visualisation des données : créez des visualisations (par exemple, des nuages de points, des cartes thermiques) pour comprendre les distributions et les relations des fonctionnalités.\n",
    "Recherche médicale : Soutenir les études de pathologie computationnelle en analysant les caractéristiques nucléaires pour obtenir des informations diagnostiques.\n",
    "Outil pédagogique : parfait pour enseigner les concepts de la science des données, tels que le prétraitement, l'évaluation des modèles et la validation croisée."
   ]
  },
  {
   "cell_type": "markdown",
   "id": "d2a93a0a",
   "metadata": {},
   "source": [
    "Catégories de fonctionnalités :\n",
    "Les 30 caractéristiques sont regroupées en trois catégories principales en fonction des caractéristiques des noyaux cellulaires :\n",
    "\n",
    "Moyenne : Valeurs moyennes des mesures (par exemple, rayon moyen, texture moyenne).\n",
    "Erreur standard (ET) : Variabilité des mesures (par exemple, erreur standard du rayon, erreur standard de la surface).\n",
    "Pire : Valeurs les plus grandes (pires) des mesures (par exemple, pire rayon, pire lissé).\n",
    "\n",
    "Chaque catégorie comprend 10 mesures spécifiques :\n",
    "\n",
    "Rayon (moyenne des distances du centre aux points du périmètre)\n",
    "Texture (écart type des valeurs de niveaux de gris)\n",
    "Périmètre\n",
    "Zone\n",
    "Lissage (variation locale des longueurs de rayon)\n",
    "Compacité (périmètre² / surface - 1,0)\n",
    "Concavité (gravité des parties concaves du contour)\n",
    "Points concaves (nombre de portions concaves du contour)\n",
    "Symétrie\n",
    "Dimension fractale (« approximation du littoral » - 1)\n",
    "Exemple de point de données :\n",
    "voici un exemple simplifié d’une seule ligne dans l’ensemble de données :\n",
    "\n",
    "\n",
    "Diagnostic ID\n",
    "Rayon_moyenne\n",
    "Texture_moyenne\n",
    "Périmètre_moyenne\n",
    "Surface_moyenne\n",
    "Lissage_moyenne\n",
    "…\n",
    "\n",
    "842302\n",
    "M\n",
    "17,99\n",
    "10,38\n",
    "122,80\n",
    "1001,0\n",
    "0,11840\n",
    "…\n",
    "\n",
    "Interprétation : Cet échantillon (ID 842302) est malin (M), avec un rayon moyen de 17,99 unités, une texture moyenne de 10,38, etc. Les 27 colonnes restantes fournissent des mesures supplémentaires (par exemple, l'erreur type et les pires valeurs)."
   ]
  },
  {
   "cell_type": "markdown",
   "id": "316b8b6b",
   "metadata": {},
   "source": [
    "Structure de l'ensemble de données :\n",
    "L'ensemble de données comprend 569 instances (lignes) et 32 colonnes, dont une colonne d'identification, une étiquette de diagnostic et 30 caractéristiques numériques décrivant les noyaux cellulaires. Chaque instance représente un échantillon de masse mammaire unique, dont les caractéristiques sont calculées à partir d'images FNA numérisées.\n",
    "Principales colonnes :\n",
    "\n",
    "ID : un identifiant unique pour chaque échantillon (par exemple, 842302).\n",
    "Diagnostic : la variable cible, étiquetée comme suit :\n",
    "M (maligne) : indique une tumeur cancéreuse.\n",
    "B (bénigne) : indique une tumeur non cancéreuse.\n",
    "\n",
    "Caractéristiques (30 colonnes) : Mesures numériques des noyaux cellulaires, telles que le rayon, la texture, le périmètre et la surface, dérivées de l'analyse d'image.\n",
    "\n",
    "Catégories de fonctionnalités :\n",
    "Les 30 caractéristiques sont regroupées en trois catégories principales en fonction des caractéristiques des noyaux cellulaires :\n",
    "\n",
    "Moyenne : Valeurs moyennes des mesures (par exemple, rayon moyen, texture moyenne).\n",
    "Erreur standard (ET) : Variabilité des mesures (par exemple, erreur standard du rayon, erreur standard de la surface).\n",
    "Pire : Valeurs les plus grandes (pires) des mesures (par exemple, pire rayon, pire lissé).\n",
    "\n",
    "Chaque catégorie comprend 10 mesures spécifiques :\n",
    "\n",
    "Rayon (moyenne des distances du centre aux points du périmètre)\n",
    "Texture (écart type des valeurs de niveaux de gris)\n",
    "Périmètre\n",
    "Zone\n",
    "Lissage (variation locale des longueurs de rayon)\n",
    "Compacité (périmètre² / surface - 1,0)\n",
    "Concavité (gravité des parties concaves du contour)\n",
    "Points concaves (nombre de portions concaves du contour)\n",
    "Symétrie\n",
    "Dimension fractale (« approximation du littoral » - 1)"
   ]
  },
  {
   "cell_type": "code",
   "execution_count": null,
   "id": "1645d6f9",
   "metadata": {},
   "outputs": [],
   "source": [
    "import numpy as np\n",
    "import pandas as pd\n",
    "import seaborn as sns\n",
    "import matplotlib.pyplot as plt\n",
    "plt.style.use('dark_background')\n",
    "plt.figure(figsize=(12, 8))\n",
    "\n"
   ]
  },
  {
   "cell_type": "code",
   "execution_count": null,
   "id": "463d96a3",
   "metadata": {},
   "outputs": [],
   "source": [
    "data = pd.read_csv(\"Breast_cancer_dataset.csv\")\n",
    "data.head()"
   ]
  },
  {
   "cell_type": "code",
   "execution_count": null,
   "id": "e20252d9",
   "metadata": {},
   "outputs": [],
   "source": [
    "from sklearn.preprocessing import LabelEncoder\n",
    "\n",
    "transf = LabelEncoder()\n",
    "data['diagnosis'] = transf.fit_transform(data['diagnosis'])\n",
    "data['diagnosis'].value_counts()"
   ]
  },
  {
   "cell_type": "code",
   "execution_count": null,
   "id": "c4e6a1f4",
   "metadata": {},
   "outputs": [],
   "source": [
    "data_N = pd.isna(data)\n",
    "data_N"
   ]
  },
  {
   "cell_type": "code",
   "execution_count": null,
   "id": "0bd59e92",
   "metadata": {},
   "outputs": [],
   "source": [
    "sns.heatmap(data_N,cmap='viridis')"
   ]
  },
  {
   "cell_type": "code",
   "execution_count": null,
   "id": "8e5bf519",
   "metadata": {},
   "outputs": [],
   "source": [
    "data.drop(columns=['Unnamed: 32'], inplace=True)"
   ]
  },
  {
   "cell_type": "code",
   "execution_count": null,
   "id": "2e7e7811",
   "metadata": {},
   "outputs": [],
   "source": [
    "sns.heatmap(pd.isna(data))"
   ]
  },
  {
   "cell_type": "code",
   "execution_count": null,
   "id": "d4ecd0c8",
   "metadata": {},
   "outputs": [],
   "source": [
    "data_calc = np.array(data)\n",
    "data_calc"
   ]
  },
  {
   "cell_type": "code",
   "execution_count": null,
   "id": "22b7f59d",
   "metadata": {},
   "outputs": [],
   "source": [
    "data_cor = pd.DataFrame(data_calc).corr()\n",
    "plt.figure(figsize=(12, 8))\n",
    "sns.heatmap(data_cor, cmap='viridis')"
   ]
  },
  {
   "cell_type": "code",
   "execution_count": null,
   "id": "3ed06456",
   "metadata": {},
   "outputs": [],
   "source": [
    "sns.pairplot(data, hue='diagnosis', palette='viridis')"
   ]
  },
  {
   "cell_type": "markdown",
   "id": "109c68e0",
   "metadata": {},
   "source": [
    "Modelisation "
   ]
  },
  {
   "cell_type": "code",
   "execution_count": null,
   "id": "4f66710b",
   "metadata": {},
   "outputs": [],
   "source": [
    "from sklearn.model_selection import train_test_split\n",
    "\n",
    "\n",
    "X = data.drop({'diagnosis'}, axis=1)\n",
    "Y = data['diagnosis']\n",
    "\n",
    "Y"
   ]
  },
  {
   "cell_type": "markdown",
   "id": "bde15690",
   "metadata": {},
   "source": [
    "Structure de l'ensemble de données :\n",
    "L'ensemble de données comprend 569 instances (lignes) et 32 colonnes, dont une colonne d'identification, une étiquette de diagnostic et 30 caractéristiques numériques décrivant les noyaux cellulaires. Chaque instance représente un échantillon de masse mammaire unique, dont les caractéristiques sont calculées à partir d'images FNA numérisées.\n",
    "Principales colonnes :\n",
    "\n",
    "ID : un identifiant unique pour chaque échantillon (par exemple, 842302).\n",
    "Diagnostic : la variable cible, étiquetée comme suit :\n",
    "M (maligne) : indique une tumeur cancéreuse.\n",
    "B (bénigne) : indique une tumeur non cancéreuse.\n",
    "\n",
    "Caractéristiques (30 colonnes) : Mesures numériques des noyaux cellulaires, telles que le rayon, la texture, le périmètre et la surface, dérivées de l'analyse d'image."
   ]
  },
  {
   "cell_type": "code",
   "execution_count": null,
   "id": "8fee4e18",
   "metadata": {},
   "outputs": [],
   "source": [
    "x_train,x_test,y_train,y_test = train_test_split(X,Y,test_size=0.2,random_state=42)"
   ]
  },
  {
   "cell_type": "code",
   "execution_count": null,
   "id": "264004ae",
   "metadata": {},
   "outputs": [],
   "source": [
    "\n",
    "from catboost import CatBoostClassifier,Pool,cv,MetricVisualizer\n",
    "model = CatBoostClassifier(iterations=2000, learning_rate=0.03, depth=6, eval_metric='AUC',l2_leaf_reg= 5,border_count=128,bootstrap_type='Bayesian', loss_function='Logloss', verbose=10,bagging_temperature=1, auto_class_weights='Balanced',random_seed=42)\n",
    "model.fit(x_train, y_train, eval_set=(x_test, y_test),plot = True,early_stopping_rounds=100,use_best_model=True)\n",
    "model.get_best_score()\n",
    "model.get_best_iteration()"
   ]
  },
  {
   "cell_type": "code",
   "execution_count": null,
   "id": "e910c3d2",
   "metadata": {},
   "outputs": [],
   "source": [
    "model.predict(y_test)\n",
    "\n",
    "from sklearn.metrics import classification_report, confusion_matrix\n",
    "from sklearn.metrics import accuracy_score\n",
    "y_preds = model.predict(x_test)\n"
   ]
  },
  {
   "cell_type": "code",
   "execution_count": null,
   "id": "2aaf9082",
   "metadata": {},
   "outputs": [],
   "source": [
    "print(\"Accuracy:\", accuracy_score(y_test, y_preds))\n",
    "conf_matrix =confusion_matrix(y_test, y_preds)\n",
    "sns.heatmap(conf_matrix, fmt='d', cmap='Blues', annot=True, xticklabels=transf.classes_, yticklabels=transf.classes_)\n",
    "print(classification_report(y_test, y_preds, target_names=transf.classes_))\n",
    "print(\"ok\")"
   ]
  },
  {
   "cell_type": "code",
   "execution_count": null,
   "id": "cacf4876",
   "metadata": {},
   "outputs": [],
   "source": [
    "x_train.columns"
   ]
  },
  {
   "cell_type": "markdown",
   "id": "53408bb0",
   "metadata": {},
   "source": []
  },
  {
   "cell_type": "markdown",
   "id": "ed4a3fdc",
   "metadata": {},
   "source": [
    "test sur les donnes inconu "
   ]
  },
  {
   "cell_type": "code",
   "execution_count": null,
   "id": "2c68ccf7",
   "metadata": {},
   "outputs": [],
   "source": [
    "x_data = pd.read_csv('test_dataset_full.csv')\n",
    "x_data = x_data.drop({'diagnosis'}, axis=1)\n",
    "x_data.head()"
   ]
  },
  {
   "cell_type": "code",
   "execution_count": null,
   "id": "c8744c0a",
   "metadata": {},
   "outputs": [],
   "source": [
    "df_real = pd.read_csv(\"test_dataset_full.csv\")\n",
    "X_real = df_real.drop(['diagnosis'], axis=1)\n",
    "y_real = df_real['diagnosis']\n",
    "\n",
    "# Prédictions\n",
    "y_pred = model.predict(X_real)\n",
    "y_proba = model.predict_proba(X_real)[:, 1]\n",
    "\n",
    "print(\"classification: \",y_pred)\n",
    "print(\"probability: \",y_proba.max()*100)\n",
    "\n",
    "print(classification_report(y_real, y_pred))\n",
    "conf_matrix_real = confusion_matrix(y_real, y_pred)\n",
    "sns.heatmap(conf_matrix_real, fmt='d', cmap='Blues', annot=True)\n"
   ]
  }
 ],
 "metadata": {
  "kernelspec": {
   "display_name": "base",
   "language": "python",
   "name": "python3"
  },
  "language_info": {
   "codemirror_mode": {
    "name": "ipython",
    "version": 3
   },
   "file_extension": ".py",
   "mimetype": "text/x-python",
   "name": "python",
   "nbconvert_exporter": "python",
   "pygments_lexer": "ipython3",
   "version": "3.13.5"
  }
 },
 "nbformat": 4,
 "nbformat_minor": 5
}
